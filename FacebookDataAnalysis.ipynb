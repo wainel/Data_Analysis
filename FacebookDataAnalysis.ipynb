{
 "cells": [
  {
   "cell_type": "code",
   "execution_count": 7,
   "metadata": {},
   "outputs": [],
   "source": [
    "import pandas as pd\n",
    "\n",
    "\n",
    "def load_data():\n",
    "    return pd.read_csv('C:/Users/elsaw/OneDrive/Bureau/git/dataset.csv')\n",
    "\n",
    "\n",
    "def find_most_common_post_type():\n",
    "    \"\"\"\n",
    "    Write a function that returns the most common type of post (string).\n",
    "    \"\"\"\n",
    "    df = load_data()\n",
    "    \n",
    "    new_df = df.Type.value_counts().sort_values(ascending = False)\n",
    "    keys = new_df.keys()\n",
    "    \n",
    "    return keys[0]"
   ]
  },
  {
   "cell_type": "code",
   "execution_count": 8,
   "metadata": {},
   "outputs": [
    {
     "data": {
      "text/plain": [
       "'Photo'"
      ]
     },
     "execution_count": 8,
     "metadata": {},
     "output_type": "execute_result"
    }
   ],
   "source": [
    "find_most_common_post_type()"
   ]
  },
  {
   "cell_type": "code",
   "execution_count": 9,
   "metadata": {},
   "outputs": [],
   "source": [
    "def is_average_for_paid_higher():\n",
    "    \"\"\"\n",
    "    Write a function that determines if the average of page total likes is \n",
    "    higher for paid posts. The function should return a boolean (True / False).\n",
    "    \"\"\"\n",
    "    df = load_data()\n",
    "    \n",
    "    new_df = df[['Page total likes', 'Paid']]\n",
    "    df_paid = new_df.loc[new_df['Paid'] == 1]\n",
    "    df_not_paid = new_df.loc[new_df['Paid'] == 0]\n",
    "    df_paid = df_paid['Page total likes']\n",
    "    df_not_paid = df_not_paid['Page total likes']\n",
    "    average_paid = df_paid.mean()\n",
    "    average_not_paid = df_not_paid.mean()\n",
    "    b = (average_paid > average_not_paid)\n",
    "    return b"
   ]
  },
  {
   "cell_type": "code",
   "execution_count": 10,
   "metadata": {},
   "outputs": [
    {
     "data": {
      "text/plain": [
       "True"
      ]
     },
     "execution_count": 10,
     "metadata": {},
     "output_type": "execute_result"
    }
   ],
   "source": [
    "is_average_for_paid_higher()"
   ]
  },
  {
   "cell_type": "code",
   "execution_count": 11,
   "metadata": {},
   "outputs": [],
   "source": [
    "def determine_best_month_per_category():\n",
    "    \"\"\"\n",
    "    Write a function that returns a list of post months (integers between 1 to 12) \n",
    "    that have the highest page total likes for each Category (1, 2, 3 in order).\n",
    "\n",
    "    \"\"\"\n",
    "    df = load_data()\n",
    "    \n",
    "    new_df = df[['Category', 'Post Month']]\n",
    "    df_1 = new_df.loc[new_df['Category'] == 1]\n",
    "    df_2 = new_df.loc[new_df['Category'] == 2]\n",
    "    df_3 = new_df.loc[new_df['Category'] == 3]\n",
    "    \n",
    "    df_1 = df_1['Post Month'].value_counts()\n",
    "    df_2 = df_2['Post Month'].value_counts()\n",
    "    df_3 = df_3['Post Month'].value_counts()\n",
    "    \n",
    "    k1 = df_1.keys()\n",
    "    k2 = df_2.keys()\n",
    "    k3 = df_3.keys()\n",
    "    \n",
    "    l = [k1[0], k2[0], k3[0]]\n",
    "    return l"
   ]
  },
  {
   "cell_type": "code",
   "execution_count": 12,
   "metadata": {},
   "outputs": [
    {
     "data": {
      "text/plain": [
       "[10, 7, 5]"
      ]
     },
     "execution_count": 12,
     "metadata": {},
     "output_type": "execute_result"
    }
   ],
   "source": [
    "determine_best_month_per_category()"
   ]
  },
  {
   "cell_type": "code",
   "execution_count": null,
   "metadata": {},
   "outputs": [],
   "source": []
  }
 ],
 "metadata": {
  "kernelspec": {
   "display_name": "Python 3",
   "language": "python",
   "name": "python3"
  },
  "language_info": {
   "codemirror_mode": {
    "name": "ipython",
    "version": 3
   },
   "file_extension": ".py",
   "mimetype": "text/x-python",
   "name": "python",
   "nbconvert_exporter": "python",
   "pygments_lexer": "ipython3",
   "version": "3.8.3"
  }
 },
 "nbformat": 4,
 "nbformat_minor": 4
}
